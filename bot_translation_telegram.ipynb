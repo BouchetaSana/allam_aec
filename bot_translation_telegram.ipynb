{
  "metadata": {
    "kernelspec": {
      "name": "python3",
      "display_name": "Python 3"
    },
    "language_info": {
      "name": "python",
      "version": "3.11.9",
      "mimetype": "text/x-python",
      "codemirror_mode": {
        "name": "ipython",
        "version": 3
      },
      "pygments_lexer": "ipython3",
      "nbconvert_exporter": "python",
      "file_extension": ".py"
    },
    "colab": {
      "provenance": [],
      "gpuType": "T4"
    },
    "accelerator": "GPU"
  },
  "nbformat_minor": 0,
  "nbformat": 4,
  "cells": [
    {
      "cell_type": "code",
      "source": [
        "!pip install pinecone-client==3.1.0 \\\n",
        "  pinecone-datasets==0.7.0 \\\n",
        "  sentence-transformers==2.2.2 \\\n",
        "  pinecone-notebooks==0.1.1 \\\n",
        "  datasets \\\n",
        "  bert_score"
      ],
      "metadata": {
        "id": "0600c0ab-6d0d-4a72-9118-f83c22b33065",
        "colab": {
          "base_uri": "https://localhost:8080/"
        },
        "outputId": "82d7d0c3-97e2-402b-a7e5-bea0610c1472"
      },
      "outputs": [
        {
          "output_type": "stream",
          "name": "stdout",
          "text": [
            "Requirement already satisfied: pinecone-client==3.1.0 in /usr/local/lib/python3.10/dist-packages (3.1.0)\n",
            "Requirement already satisfied: pinecone-datasets==0.7.0 in /usr/local/lib/python3.10/dist-packages (0.7.0)\n",
            "Requirement already satisfied: sentence-transformers==2.2.2 in /usr/local/lib/python3.10/dist-packages (2.2.2)\n",
            "Requirement already satisfied: pinecone-notebooks==0.1.1 in /usr/local/lib/python3.10/dist-packages (0.1.1)\n",
            "Requirement already satisfied: datasets in /usr/local/lib/python3.10/dist-packages (2.16.1)\n",
            "Requirement already satisfied: bert_score in /usr/local/lib/python3.10/dist-packages (0.3.13)\n",
            "Requirement already satisfied: certifi>=2019.11.17 in /usr/local/lib/python3.10/dist-packages (from pinecone-client==3.1.0) (2024.8.30)\n",
            "Requirement already satisfied: tqdm>=4.64.1 in /usr/local/lib/python3.10/dist-packages (from pinecone-client==3.1.0) (4.66.6)\n",
            "Requirement already satisfied: typing-extensions>=3.7.4 in /usr/local/lib/python3.10/dist-packages (from pinecone-client==3.1.0) (4.12.2)\n",
            "Requirement already satisfied: urllib3>=1.26.0 in /usr/local/lib/python3.10/dist-packages (from pinecone-client==3.1.0) (2.0.7)\n",
            "Requirement already satisfied: fsspec<2024.0.0,>=2023.1.0 in /usr/local/lib/python3.10/dist-packages (from pinecone-datasets==0.7.0) (2023.10.0)\n",
            "Requirement already satisfied: gcsfs<2024.0.0,>=2023.1.0 in /usr/local/lib/python3.10/dist-packages (from pinecone-datasets==0.7.0) (2023.10.0)\n",
            "Requirement already satisfied: pandas<3.0.0,>=2.0.0 in /usr/local/lib/python3.10/dist-packages (from pinecone-datasets==0.7.0) (2.2.2)\n",
            "Requirement already satisfied: pyarrow<12.0.0,>=11.0.0 in /usr/local/lib/python3.10/dist-packages (from pinecone-datasets==0.7.0) (11.0.0)\n",
            "Requirement already satisfied: pydantic<2.0.0,>=1.10.5 in /usr/local/lib/python3.10/dist-packages (from pinecone-datasets==0.7.0) (1.10.19)\n",
            "Requirement already satisfied: s3fs<2024.0.0,>=2023.1.0 in /usr/local/lib/python3.10/dist-packages (from pinecone-datasets==0.7.0) (2023.10.0)\n",
            "Requirement already satisfied: transformers<5.0.0,>=4.6.0 in /usr/local/lib/python3.10/dist-packages (from sentence-transformers==2.2.2) (4.44.2)\n",
            "Requirement already satisfied: torch>=1.6.0 in /usr/local/lib/python3.10/dist-packages (from sentence-transformers==2.2.2) (2.5.0+cu121)\n",
            "Requirement already satisfied: torchvision in /usr/local/lib/python3.10/dist-packages (from sentence-transformers==2.2.2) (0.20.0+cu121)\n",
            "Requirement already satisfied: numpy in /usr/local/lib/python3.10/dist-packages (from sentence-transformers==2.2.2) (1.26.4)\n",
            "Requirement already satisfied: scikit-learn in /usr/local/lib/python3.10/dist-packages (from sentence-transformers==2.2.2) (1.5.2)\n",
            "Requirement already satisfied: scipy in /usr/local/lib/python3.10/dist-packages (from sentence-transformers==2.2.2) (1.13.1)\n",
            "Requirement already satisfied: nltk in /usr/local/lib/python3.10/dist-packages (from sentence-transformers==2.2.2) (3.8.1)\n",
            "Requirement already satisfied: sentencepiece in /usr/local/lib/python3.10/dist-packages (from sentence-transformers==2.2.2) (0.2.0)\n",
            "Requirement already satisfied: huggingface-hub>=0.4.0 in /usr/local/lib/python3.10/dist-packages (from sentence-transformers==2.2.2) (0.24.7)\n",
            "Requirement already satisfied: filelock in /usr/local/lib/python3.10/dist-packages (from datasets) (3.16.1)\n",
            "Requirement already satisfied: pyarrow-hotfix in /usr/local/lib/python3.10/dist-packages (from datasets) (0.6)\n",
            "Requirement already satisfied: dill<0.3.8,>=0.3.0 in /usr/local/lib/python3.10/dist-packages (from datasets) (0.3.7)\n",
            "Requirement already satisfied: requests>=2.19.0 in /usr/local/lib/python3.10/dist-packages (from datasets) (2.32.3)\n",
            "Requirement already satisfied: xxhash in /usr/local/lib/python3.10/dist-packages (from datasets) (3.5.0)\n",
            "Requirement already satisfied: multiprocess in /usr/local/lib/python3.10/dist-packages (from datasets) (0.70.15)\n",
            "Requirement already satisfied: aiohttp in /usr/local/lib/python3.10/dist-packages (from datasets) (3.10.10)\n",
            "Requirement already satisfied: packaging in /usr/local/lib/python3.10/dist-packages (from datasets) (24.1)\n",
            "Requirement already satisfied: pyyaml>=5.1 in /usr/local/lib/python3.10/dist-packages (from datasets) (6.0.2)\n",
            "Requirement already satisfied: matplotlib in /usr/local/lib/python3.10/dist-packages (from bert_score) (3.8.0)\n",
            "Requirement already satisfied: aiohappyeyeballs>=2.3.0 in /usr/local/lib/python3.10/dist-packages (from aiohttp->datasets) (2.4.3)\n",
            "Requirement already satisfied: aiosignal>=1.1.2 in /usr/local/lib/python3.10/dist-packages (from aiohttp->datasets) (1.3.1)\n",
            "Requirement already satisfied: attrs>=17.3.0 in /usr/local/lib/python3.10/dist-packages (from aiohttp->datasets) (24.2.0)\n",
            "Requirement already satisfied: frozenlist>=1.1.1 in /usr/local/lib/python3.10/dist-packages (from aiohttp->datasets) (1.5.0)\n",
            "Requirement already satisfied: multidict<7.0,>=4.5 in /usr/local/lib/python3.10/dist-packages (from aiohttp->datasets) (6.1.0)\n",
            "Requirement already satisfied: yarl<2.0,>=1.12.0 in /usr/local/lib/python3.10/dist-packages (from aiohttp->datasets) (1.17.0)\n",
            "Requirement already satisfied: async-timeout<5.0,>=4.0 in /usr/local/lib/python3.10/dist-packages (from aiohttp->datasets) (4.0.3)\n",
            "Requirement already satisfied: decorator>4.1.2 in /usr/local/lib/python3.10/dist-packages (from gcsfs<2024.0.0,>=2023.1.0->pinecone-datasets==0.7.0) (4.4.2)\n",
            "Requirement already satisfied: google-auth>=1.2 in /usr/local/lib/python3.10/dist-packages (from gcsfs<2024.0.0,>=2023.1.0->pinecone-datasets==0.7.0) (2.27.0)\n",
            "Requirement already satisfied: google-auth-oauthlib in /usr/local/lib/python3.10/dist-packages (from gcsfs<2024.0.0,>=2023.1.0->pinecone-datasets==0.7.0) (1.2.1)\n",
            "Requirement already satisfied: google-cloud-storage in /usr/local/lib/python3.10/dist-packages (from gcsfs<2024.0.0,>=2023.1.0->pinecone-datasets==0.7.0) (2.8.0)\n",
            "Requirement already satisfied: python-dateutil>=2.8.2 in /usr/local/lib/python3.10/dist-packages (from pandas<3.0.0,>=2.0.0->pinecone-datasets==0.7.0) (2.8.2)\n",
            "Requirement already satisfied: pytz>=2020.1 in /usr/local/lib/python3.10/dist-packages (from pandas<3.0.0,>=2.0.0->pinecone-datasets==0.7.0) (2024.2)\n",
            "Requirement already satisfied: tzdata>=2022.7 in /usr/local/lib/python3.10/dist-packages (from pandas<3.0.0,>=2.0.0->pinecone-datasets==0.7.0) (2024.2)\n",
            "Requirement already satisfied: charset-normalizer<4,>=2 in /usr/local/lib/python3.10/dist-packages (from requests>=2.19.0->datasets) (3.4.0)\n",
            "Requirement already satisfied: idna<4,>=2.5 in /usr/local/lib/python3.10/dist-packages (from requests>=2.19.0->datasets) (3.10)\n",
            "Requirement already satisfied: aiobotocore~=2.7.0 in /usr/local/lib/python3.10/dist-packages (from s3fs<2024.0.0,>=2023.1.0->pinecone-datasets==0.7.0) (2.7.0)\n",
            "Requirement already satisfied: networkx in /usr/local/lib/python3.10/dist-packages (from torch>=1.6.0->sentence-transformers==2.2.2) (3.4.2)\n",
            "Requirement already satisfied: jinja2 in /usr/local/lib/python3.10/dist-packages (from torch>=1.6.0->sentence-transformers==2.2.2) (3.1.4)\n",
            "Requirement already satisfied: sympy==1.13.1 in /usr/local/lib/python3.10/dist-packages (from torch>=1.6.0->sentence-transformers==2.2.2) (1.13.1)\n",
            "Requirement already satisfied: mpmath<1.4,>=1.1.0 in /usr/local/lib/python3.10/dist-packages (from sympy==1.13.1->torch>=1.6.0->sentence-transformers==2.2.2) (1.3.0)\n",
            "Requirement already satisfied: regex!=2019.12.17 in /usr/local/lib/python3.10/dist-packages (from transformers<5.0.0,>=4.6.0->sentence-transformers==2.2.2) (2024.9.11)\n",
            "Requirement already satisfied: safetensors>=0.4.1 in /usr/local/lib/python3.10/dist-packages (from transformers<5.0.0,>=4.6.0->sentence-transformers==2.2.2) (0.4.5)\n",
            "Requirement already satisfied: tokenizers<0.20,>=0.19 in /usr/local/lib/python3.10/dist-packages (from transformers<5.0.0,>=4.6.0->sentence-transformers==2.2.2) (0.19.1)\n",
            "Requirement already satisfied: contourpy>=1.0.1 in /usr/local/lib/python3.10/dist-packages (from matplotlib->bert_score) (1.3.0)\n",
            "Requirement already satisfied: cycler>=0.10 in /usr/local/lib/python3.10/dist-packages (from matplotlib->bert_score) (0.12.1)\n",
            "Requirement already satisfied: fonttools>=4.22.0 in /usr/local/lib/python3.10/dist-packages (from matplotlib->bert_score) (4.54.1)\n",
            "Requirement already satisfied: kiwisolver>=1.0.1 in /usr/local/lib/python3.10/dist-packages (from matplotlib->bert_score) (1.4.7)\n",
            "Requirement already satisfied: pillow>=6.2.0 in /usr/local/lib/python3.10/dist-packages (from matplotlib->bert_score) (10.4.0)\n",
            "Requirement already satisfied: pyparsing>=2.3.1 in /usr/local/lib/python3.10/dist-packages (from matplotlib->bert_score) (3.2.0)\n",
            "Requirement already satisfied: click in /usr/local/lib/python3.10/dist-packages (from nltk->sentence-transformers==2.2.2) (8.1.7)\n",
            "Requirement already satisfied: joblib in /usr/local/lib/python3.10/dist-packages (from nltk->sentence-transformers==2.2.2) (1.4.2)\n",
            "Requirement already satisfied: threadpoolctl>=3.1.0 in /usr/local/lib/python3.10/dist-packages (from scikit-learn->sentence-transformers==2.2.2) (3.5.0)\n",
            "Requirement already satisfied: botocore<1.31.65,>=1.31.16 in /usr/local/lib/python3.10/dist-packages (from aiobotocore~=2.7.0->s3fs<2024.0.0,>=2023.1.0->pinecone-datasets==0.7.0) (1.31.64)\n",
            "Requirement already satisfied: wrapt<2.0.0,>=1.10.10 in /usr/local/lib/python3.10/dist-packages (from aiobotocore~=2.7.0->s3fs<2024.0.0,>=2023.1.0->pinecone-datasets==0.7.0) (1.16.0)\n",
            "Requirement already satisfied: aioitertools<1.0.0,>=0.5.1 in /usr/local/lib/python3.10/dist-packages (from aiobotocore~=2.7.0->s3fs<2024.0.0,>=2023.1.0->pinecone-datasets==0.7.0) (0.12.0)\n",
            "Requirement already satisfied: cachetools<6.0,>=2.0.0 in /usr/local/lib/python3.10/dist-packages (from google-auth>=1.2->gcsfs<2024.0.0,>=2023.1.0->pinecone-datasets==0.7.0) (5.5.0)\n",
            "Requirement already satisfied: pyasn1-modules>=0.2.1 in /usr/local/lib/python3.10/dist-packages (from google-auth>=1.2->gcsfs<2024.0.0,>=2023.1.0->pinecone-datasets==0.7.0) (0.4.1)\n",
            "Requirement already satisfied: rsa<5,>=3.1.4 in /usr/local/lib/python3.10/dist-packages (from google-auth>=1.2->gcsfs<2024.0.0,>=2023.1.0->pinecone-datasets==0.7.0) (4.9)\n",
            "Requirement already satisfied: six>=1.5 in /usr/local/lib/python3.10/dist-packages (from python-dateutil>=2.8.2->pandas<3.0.0,>=2.0.0->pinecone-datasets==0.7.0) (1.16.0)\n",
            "Requirement already satisfied: propcache>=0.2.0 in /usr/local/lib/python3.10/dist-packages (from yarl<2.0,>=1.12.0->aiohttp->datasets) (0.2.0)\n",
            "Requirement already satisfied: requests-oauthlib>=0.7.0 in /usr/local/lib/python3.10/dist-packages (from google-auth-oauthlib->gcsfs<2024.0.0,>=2023.1.0->pinecone-datasets==0.7.0) (1.3.1)\n",
            "Requirement already satisfied: google-api-core!=2.0.*,!=2.1.*,!=2.2.*,!=2.3.0,<3.0.0dev,>=1.31.5 in /usr/local/lib/python3.10/dist-packages (from google-cloud-storage->gcsfs<2024.0.0,>=2023.1.0->pinecone-datasets==0.7.0) (2.19.2)\n",
            "Requirement already satisfied: google-cloud-core<3.0dev,>=2.3.0 in /usr/local/lib/python3.10/dist-packages (from google-cloud-storage->gcsfs<2024.0.0,>=2023.1.0->pinecone-datasets==0.7.0) (2.4.1)\n",
            "Requirement already satisfied: google-resumable-media>=2.3.2 in /usr/local/lib/python3.10/dist-packages (from google-cloud-storage->gcsfs<2024.0.0,>=2023.1.0->pinecone-datasets==0.7.0) (2.7.2)\n",
            "Requirement already satisfied: MarkupSafe>=2.0 in /usr/local/lib/python3.10/dist-packages (from jinja2->torch>=1.6.0->sentence-transformers==2.2.2) (3.0.2)\n",
            "Requirement already satisfied: jmespath<2.0.0,>=0.7.1 in /usr/local/lib/python3.10/dist-packages (from botocore<1.31.65,>=1.31.16->aiobotocore~=2.7.0->s3fs<2024.0.0,>=2023.1.0->pinecone-datasets==0.7.0) (1.0.1)\n",
            "Requirement already satisfied: googleapis-common-protos<2.0.dev0,>=1.56.2 in /usr/local/lib/python3.10/dist-packages (from google-api-core!=2.0.*,!=2.1.*,!=2.2.*,!=2.3.0,<3.0.0dev,>=1.31.5->google-cloud-storage->gcsfs<2024.0.0,>=2023.1.0->pinecone-datasets==0.7.0) (1.65.0)\n",
            "Requirement already satisfied: protobuf!=3.20.0,!=3.20.1,!=4.21.0,!=4.21.1,!=4.21.2,!=4.21.3,!=4.21.4,!=4.21.5,<6.0.0.dev0,>=3.19.5 in /usr/local/lib/python3.10/dist-packages (from google-api-core!=2.0.*,!=2.1.*,!=2.2.*,!=2.3.0,<3.0.0dev,>=1.31.5->google-cloud-storage->gcsfs<2024.0.0,>=2023.1.0->pinecone-datasets==0.7.0) (3.20.3)\n",
            "Requirement already satisfied: proto-plus<2.0.0dev,>=1.22.3 in /usr/local/lib/python3.10/dist-packages (from google-api-core!=2.0.*,!=2.1.*,!=2.2.*,!=2.3.0,<3.0.0dev,>=1.31.5->google-cloud-storage->gcsfs<2024.0.0,>=2023.1.0->pinecone-datasets==0.7.0) (1.25.0)\n",
            "Requirement already satisfied: google-crc32c<2.0dev,>=1.0 in /usr/local/lib/python3.10/dist-packages (from google-resumable-media>=2.3.2->google-cloud-storage->gcsfs<2024.0.0,>=2023.1.0->pinecone-datasets==0.7.0) (1.6.0)\n",
            "Requirement already satisfied: pyasn1<0.7.0,>=0.4.6 in /usr/local/lib/python3.10/dist-packages (from pyasn1-modules>=0.2.1->google-auth>=1.2->gcsfs<2024.0.0,>=2023.1.0->pinecone-datasets==0.7.0) (0.6.1)\n",
            "Requirement already satisfied: oauthlib>=3.0.0 in /usr/local/lib/python3.10/dist-packages (from requests-oauthlib>=0.7.0->google-auth-oauthlib->gcsfs<2024.0.0,>=2023.1.0->pinecone-datasets==0.7.0) (3.2.2)\n"
          ]
        }
      ],
      "execution_count": 1
    },
    {
      "cell_type": "code",
      "source": [
        "import requests\n",
        "from pinecone import Pinecone, ServerlessSpec\n",
        "from transformers import AutoTokenizer, AutoModel\n",
        "import torch\n",
        "\n",
        "# Pinecone Initialization\n",
        "pc = Pinecone(api_key=\"9214c316-cd0b-461d-8851-618d9ccfb69a\")\n",
        "index = pc.Index(\"arabic-dialect-translation\")\n",
        "\n",
        "\n",
        "# Load embedding model\n",
        "tokenizer = AutoTokenizer.from_pretrained(\"intfloat/e5-base\")\n",
        "model = AutoModel.from_pretrained(\"intfloat/e5-base\")\n",
        "\n",
        "def generate_embedding(text):\n",
        "    inputs = tokenizer(text, return_tensors=\"pt\", padding=True, truncation=True)\n",
        "    with torch.no_grad():\n",
        "        embeddings = model(**inputs).last_hidden_state.mean(dim=1)\n",
        "    return embeddings.squeeze().tolist()\n",
        "\n",
        "def query_pinecone(query_text, top_k=20):\n",
        "    query_embedding = generate_embedding(query_text)\n",
        "    results = index.query(vector=query_embedding, top_k=top_k, include_metadata=True)\n",
        "    return results\n",
        "\n",
        "def generate_prompt(query_text, pinecone_results):\n",
        "  \"\"\"\n",
        "    Generates a prompt that includes retrieved examples and few-shot examples.\n",
        "\n",
        "    Args:\n",
        "    - query_text (str): The input query in dialectal Arabic.\n",
        "    - pinecone_results (list): Retrieved relevant examples from Pinecone.\n",
        "\n",
        "    Returns:\n",
        "    - str: A formatted prompt to guide the model's response.\n",
        "  \"\"\"\n",
        "  # few_shot_examples = \"\"\"\n",
        "  #   - Sentence: \"وينك؟ ما شفناك من زمان\"\n",
        "  #     Dialect: [Gulf]\n",
        "  #     Translation: \"أين أنت؟ لم نرك منذ فترة طويلة\"\n",
        "\n",
        "  #   - Sentence: \"شو عم تعمل؟ ما شفتك من زمان\"\n",
        "  #     Dialect: [Levantine]\n",
        "  #     Translation: \"ماذا تفعل؟ لم أرك منذ فترة طويلة\"\n",
        "\n",
        "  #   - Sentence: \"واش راك؟ ما شفتكش من مدة \"\n",
        "  #     Dialect: [North Africa]\n",
        "  #     Translation: \"كيف حالك؟ لم أرك منذ فترة \"\n",
        "\n",
        "  #   - Sentence: \"مّا وبّا ... شحال من عام و هوما يحّجرو ( يْلَّمو ) ف الدراهم باش ينجمو يشرو ديك الماشينة ، و ف النهار اللول اللي كانو غادي يخدمو بيها ، حتى حّنّا ( الجدة ) كانت معروضة باش تجي تشوف الماشينة .  . \"\n",
        "  #     Dialect: [North Africa]\n",
        "  #     Translation: \"كان والدي ووالدتي يدخرون المال لهذا اليوم منذ سنوات لكي يستطيعوا شراء هذه الغسالة وفي اول يوم لاستخدامها دعيت جدتي لحضور ذلك الحدث لكي ترى هذه الآلة  \"\n",
        "\n",
        "  #   - Sentence: \"إزيّك؟ ما شفتكش بقالك كتير\"\n",
        "  #     Dialect: [Egyptian]\n",
        "  #     Translation: \"كيف حالك؟ لم أرك منذ فترة طويلة\"\n",
        "\n",
        "  #   - Sentence: \"كيف حالك؟ لم أرك منذ فترة طويلة\"\n",
        "  #     Dialect: [Stand arabic]\n",
        "  #     Translation: \"كيف حالك؟ لم أرك منذ فترة طويلة\"\n",
        "\n",
        "  #   \"\"\"\n",
        "\n",
        "\n",
        "  retrieved_examples = \"\\n\".join(\n",
        "      [f\"{i+1}. \\\"{match['metadata']['text']}\\\" - Dialect: [{match['metadata']['label']}], Translation: \\\"{match['metadata']['translation']}\\\"\"\n",
        "      for i, match in enumerate(pinecone_results['matches'])]\n",
        "      )\n",
        "\n",
        "  #The following are examples of Arabic dialect sentences with their dialect name and their translations in standard Arabic:\n",
        "\n",
        "  # Your are dialect translator assistant you have the following examples of Arabic dialect sentences and their translations in standard Arabic:\n",
        "  # {few_shot_examples}\n",
        "\n",
        "  prompt = f\"\"\"\n",
        "  Your are dialect translator assistant Based on the following retrieved examples:\n",
        "  {retrieved_examples}\n",
        "\n",
        "  Identify the dialect and provide the translation for the following sentence to only and only standard Arabic with giving its dialect:\n",
        "\n",
        "  Sentence: \"{query_text}\"\n",
        "  \"\"\"\n",
        "\n",
        "  return prompt.strip()\n",
        "\n",
        "def parse_response(response):\n",
        "    \"\"\"\n",
        "    Parses the model's response and returns a well-organized string with non-empty components.\n",
        "\n",
        "    Args:\n",
        "    - response (str): The model's response.\n",
        "\n",
        "    Returns:\n",
        "    - str: An organized string with only the non-empty components (Sentence, Dialect, Translation).\n",
        "    \"\"\"\n",
        "    # Initialize components as empty strings\n",
        "    sentence, dialect, translation = \"\", \"\", \"\"\n",
        "\n",
        "    # Split response into lines\n",
        "    lines = response.strip().split(\"\\n\")\n",
        "\n",
        "    # Iterate through each line to find specific components\n",
        "    for line in lines:\n",
        "        if \"Sentence:\" in line:\n",
        "            sentence = line.split(\":\", 1)[1].strip('\" ').strip()\n",
        "        elif \"Dialect:\" in line:\n",
        "            dialect = line.split(\":\", 1)[1].strip(\"[] \").strip()\n",
        "        elif \"Translation:\" in line:\n",
        "            translation = line.split(\":\", 1)[1].strip('\" ').strip()\n",
        "\n",
        "    # Build the organized response string with non-empty components\n",
        "    response = \"\"\n",
        "    if sentence:\n",
        "        response += f\"Sentence: \\\"{sentence}\\\"\\n\"\n",
        "    if dialect:\n",
        "        response += f\"Dialect: [{dialect}]\\n\"\n",
        "    if translation:\n",
        "        response += f\"Translation: \\\"{translation}\\\"\"\n",
        "\n",
        "    return response.strip()\n"
      ],
      "metadata": {
        "id": "e8537896-97c0-4e32-82d6-783a70bf0ade",
        "colab": {
          "base_uri": "https://localhost:8080/"
        },
        "outputId": "5d41ca6e-9fdf-40a3-e3fd-6430a026a3b3"
      },
      "outputs": [
        {
          "output_type": "stream",
          "name": "stderr",
          "text": [
            "/usr/local/lib/python3.10/dist-packages/huggingface_hub/utils/_token.py:89: UserWarning: \n",
            "The secret `HF_TOKEN` does not exist in your Colab secrets.\n",
            "To authenticate with the Hugging Face Hub, create a token in your settings tab (https://huggingface.co/settings/tokens), set it as secret in your Google Colab and restart your session.\n",
            "You will be able to reuse this secret in all of your notebooks.\n",
            "Please note that authentication is recommended but still optional to access public models or datasets.\n",
            "  warnings.warn(\n",
            "/usr/local/lib/python3.10/dist-packages/transformers/tokenization_utils_base.py:1601: FutureWarning: `clean_up_tokenization_spaces` was not set. It will be set to `True` by default. This behavior will be depracted in transformers v4.45, and will be then set to `False` by default. For more details check this issue: https://github.com/huggingface/transformers/issues/31884\n",
            "  warnings.warn(\n"
          ]
        }
      ],
      "execution_count": 2
    },
    {
      "cell_type": "code",
      "source": [
        "API_KEY=\"xK7NstzjTVVcAmjsI4OomLGRkt9a7vZUO9sChIVBWXLs\"\n",
        "ENDPOINT = \"https://eu-de.ml.cloud.ibm.com/ml/v1/text/generation?version=2023-05-29\""
      ],
      "metadata": {
        "id": "82d79a31-b674-40a2-89b4-331362986015"
      },
      "outputs": [],
      "execution_count": 3
    },
    {
      "cell_type": "code",
      "source": [
        "import sys\n",
        "import requests\n",
        "from requests.exceptions import RequestException\n",
        "\n",
        "def get_access_token():\n",
        "    token_url = \"https://iam.cloud.ibm.com/identity/token\"\n",
        "    headers = {\"Content-Type\": \"application/x-www-form-urlencoded\"}\n",
        "    data = {\n",
        "            \"grant_type\": \"urn:ibm:params:oauth:grant-type:apikey\",\n",
        "            \"apikey\": API_KEY\n",
        "    }\n",
        "    response = requests.post(token_url, headers=headers, data=data)\n",
        "\n",
        "    if response.status_code==200:\n",
        "        return response.json()[\"access_token\"]\n",
        "\n",
        "    else:\n",
        "        print(f\"Error obtaining access token: {response.text}\")\n",
        "\n",
        "ACCESS_TOKEN = get_access_token()\n",
        "print(ACCESS_TOKEN)"
      ],
      "metadata": {
        "id": "b0be1d61-83e3-49b9-8b28-1f477203b413",
        "colab": {
          "base_uri": "https://localhost:8080/"
        },
        "outputId": "e2109ace-f6af-4343-fc09-d1fbbe1521be"
      },
      "outputs": [
        {
          "output_type": "stream",
          "name": "stdout",
          "text": [
            "eyJraWQiOiIyMDI0MTEwMTA4NDIiLCJhbGciOiJSUzI1NiJ9.eyJpYW1faWQiOiJJQk1pZC02OTUwMDBLNFdLIiwiaWQiOiJJQk1pZC02OTUwMDBLNFdLIiwicmVhbG1pZCI6IklCTWlkIiwianRpIjoiN2NjNjk0MTQtOWY4MC00MzkzLWEwMDAtYThkYjk0NzMyMDdhIiwiaWRlbnRpZmllciI6IjY5NTAwMEs0V0siLCJnaXZlbl9uYW1lIjoiU2FuYSIsImZhbWlseV9uYW1lIjoiQk9VQ0hFVEEiLCJuYW1lIjoiU2FuYSBCT1VDSEVUQSIsImVtYWlsIjoic2FuYS5ib3VjaGV0YUBnbWFpbC5jb20iLCJzdWIiOiJzYW5hLmJvdWNoZXRhQGdtYWlsLmNvbSIsImF1dGhuIjp7InN1YiI6InNhbmEuYm91Y2hldGFAZ21haWwuY29tIiwiaWFtX2lkIjoiSUJNaWQtNjk1MDAwSzRXSyIsIm5hbWUiOiJTYW5hIEJPVUNIRVRBIiwiZ2l2ZW5fbmFtZSI6IlNhbmEiLCJmYW1pbHlfbmFtZSI6IkJPVUNIRVRBIiwiZW1haWwiOiJzYW5hLmJvdWNoZXRhQGdtYWlsLmNvbSJ9LCJhY2NvdW50Ijp7InZhbGlkIjp0cnVlLCJic3MiOiJmNDYzN2YzYjcwNzc0MDhmYjFlMTM1ZTQxYzY3OTY0MyIsImltc191c2VyX2lkIjoiMTI2Nzc5MjUiLCJmcm96ZW4iOnRydWUsImltcyI6IjI3NDY5ODYifSwiaWF0IjoxNzMxMTM4NDI2LCJleHAiOjE3MzExNDIwMjYsImlzcyI6Imh0dHBzOi8vaWFtLmNsb3VkLmlibS5jb20vaWRlbnRpdHkiLCJncmFudF90eXBlIjoidXJuOmlibTpwYXJhbXM6b2F1dGg6Z3JhbnQtdHlwZTphcGlrZXkiLCJzY29wZSI6ImlibSBvcGVuaWQiLCJjbGllbnRfaWQiOiJkZWZhdWx0IiwiYWNyIjoxLCJhbXIiOlsicHdkIl19.YRc1SQ7xWlR9lJJ5aYtNeVfbVp8DRSZthjYVJTSKBWe40X5jI_yZbbBeol5CX-CVuXOe92tHvaNFn8Khzu-4azAHtO3ltDRf9nVXT6E2KwGrGcrs561Txn2JB5Hxx9aAf0HDpMDA8o28ZneOiP1_HNVfFyIu-iR3zzqzmzHgwJHIPoyZZ0R44UN4j-FCk1tQx33Fyh1xEBzXIdKwcrIeGiliN4zskrJBfU_aO6BNeymWgkvYFYE1jQzGJplNyou1H6OZpqEcoqj4ZwnMVaxSRdj87kS2KvC28-quiF_31ryQECzAD0eqn2wH1OWW5RB_XhbfL7z-_UbvnupkBz1oTg\n"
          ]
        }
      ],
      "execution_count": 4
    },
    {
      "cell_type": "code",
      "source": [
        "def query_watsonx(prompt):\n",
        "    headers = {\n",
        "        \"Authorization\": f\"Bearer {ACCESS_TOKEN}\",\n",
        "        \"Content-Type\": \"application/json\"\n",
        "    }\n",
        "    body = {\n",
        "            \"input\": prompt,\n",
        "            \"parameters\": {\n",
        "                \"decoding_method\": \"greedy\",\n",
        "                \"max_new_tokens\": 900,\n",
        "                \"repetition_penalty\": 1.05,\n",
        "            },\n",
        "            \"model_id\": \"sdaia/allam-1-13b-instruct\",\n",
        "            \"project_id\": \"4d029c5c-71f8-459d-aa75-19f113997547\"\n",
        "        }\n",
        "\n",
        "    response = requests.post(ENDPOINT, headers=headers, json=body)\n",
        "    if response.json().get(\"results\"):\n",
        "        return response.json().get(\"results\")[0].get(\"generated_text\")\n",
        "    else:\n",
        "        return \"No response available.\"\n"
      ],
      "metadata": {
        "id": "0c86b52c-ad9b-46d5-aebf-8eae0d9a4ee8"
      },
      "outputs": [],
      "execution_count": 5
    },
    {
      "cell_type": "code",
      "source": [
        "def process_query(query_text):\n",
        "    pinecone_results = query_pinecone(query_text)\n",
        "    prompt = generate_prompt(query_text, pinecone_results)\n",
        "    response = query_watsonx(prompt)\n",
        "    return  parse_response(response)\n"
      ],
      "metadata": {
        "id": "acdddd41-5c70-4568-a9a0-e20f8ee9b5ec"
      },
      "outputs": [],
      "execution_count": 6
    },
    {
      "cell_type": "code",
      "source": [
        "response = process_query(\"عمري ما سامع بهيج عنوان بهل المنطقة\")\n",
        "print(response)\n"
      ],
      "metadata": {
        "id": "1b7ad18f-31bb-4e32-a63f-fa6bdbd840d8",
        "colab": {
          "base_uri": "https://localhost:8080/"
        },
        "outputId": "45184154-3536-4569-bf23-0a8bcc747e30"
      },
      "outputs": [
        {
          "output_type": "stream",
          "name": "stdout",
          "text": [
            "Dialect: [Levantine]\n",
            "Translation: \"لم أسمع بهذا العنوان في هذه المنطقة من قبل\"\n"
          ]
        }
      ],
      "execution_count": 7
    },
    {
      "cell_type": "markdown",
      "source": [
        "## **Telegram Integration**"
      ],
      "metadata": {
        "id": "etL3Z1ICux94"
      }
    },
    {
      "cell_type": "code",
      "source": [
        "!pip install python-telegram-bot --upgrade\n"
      ],
      "metadata": {
        "colab": {
          "base_uri": "https://localhost:8080/"
        },
        "id": "sXtSAONbyuMX",
        "outputId": "b872b2f6-61e7-4fea-d8fc-01027d5eae67"
      },
      "execution_count": 8,
      "outputs": [
        {
          "output_type": "stream",
          "name": "stdout",
          "text": [
            "Requirement already satisfied: python-telegram-bot in /usr/local/lib/python3.10/dist-packages (21.7)\n",
            "Requirement already satisfied: httpx~=0.27 in /usr/local/lib/python3.10/dist-packages (from python-telegram-bot) (0.27.2)\n",
            "Requirement already satisfied: anyio in /usr/local/lib/python3.10/dist-packages (from httpx~=0.27->python-telegram-bot) (3.7.1)\n",
            "Requirement already satisfied: certifi in /usr/local/lib/python3.10/dist-packages (from httpx~=0.27->python-telegram-bot) (2024.8.30)\n",
            "Requirement already satisfied: httpcore==1.* in /usr/local/lib/python3.10/dist-packages (from httpx~=0.27->python-telegram-bot) (1.0.6)\n",
            "Requirement already satisfied: idna in /usr/local/lib/python3.10/dist-packages (from httpx~=0.27->python-telegram-bot) (3.10)\n",
            "Requirement already satisfied: sniffio in /usr/local/lib/python3.10/dist-packages (from httpx~=0.27->python-telegram-bot) (1.3.1)\n",
            "Requirement already satisfied: h11<0.15,>=0.13 in /usr/local/lib/python3.10/dist-packages (from httpcore==1.*->httpx~=0.27->python-telegram-bot) (0.14.0)\n",
            "Requirement already satisfied: exceptiongroup in /usr/local/lib/python3.10/dist-packages (from anyio->httpx~=0.27->python-telegram-bot) (1.2.2)\n"
          ]
        }
      ]
    },
    {
      "cell_type": "code",
      "source": [
        "from telegram import Update, Bot\n",
        "from telegram.ext import ApplicationBuilder, CommandHandler, MessageHandler, ContextTypes, filters\n",
        "import re\n",
        "\n",
        "\n",
        "# Translation function using your model\n",
        "def translate_message(message):\n",
        "    query_text = message\n",
        "    response = process_query(query_text)\n",
        "    return response\n",
        "\n",
        "\n",
        "# Command handler: Start\n",
        "async def start(update: Update, context: ContextTypes.DEFAULT_TYPE) -> None:\n",
        "      await update.message.reply_text(\"Hello! Send me a message privately or mention me in a group to translate sentences.\")\n",
        "\n",
        "# Message handler for private chat\n",
        "async def handle_private_message(update: Update, context: ContextTypes.DEFAULT_TYPE) -> None:\n",
        "    print(\"HERE private\")\n",
        "    user_message = update.message.text\n",
        "    translation = translate_message(user_message)\n",
        "    await update.message.reply_text(f\"\\n{translation}\")\n",
        "\n",
        "\n",
        "# Message handler for group mentions\n",
        "async def handle_group_message(update: Update, context: ContextTypes.DEFAULT_TYPE) -> None:\n",
        "    print(\"HERE 1\")\n",
        "    message_text = update.message.text\n",
        "\n",
        "    # Extract message text after bot mention\n",
        "    mention_pattern = f\"@{context.bot.username} (.+)\"\n",
        "    match = re.search(mention_pattern, message_text)\n",
        "\n",
        "    if match:\n",
        "        original_message = match.group(1)\n",
        "        translation = translate_message(original_message)\n",
        "        await update.message.reply_text(f\"Translation:\\n{translation}\")\n",
        "    else:\n",
        "        await update.message.reply_text(\"Please mention me with a valid message like: @AllamDialectTranslatorBot <message> to translate.\")\n",
        "\n",
        "\n",
        "\n",
        "\n",
        "\n",
        "# Main function to set up the bot\n",
        "async def main():\n",
        "    bot_token = '7888741463:AAFYT1ItE5dHlSxgPoO00la9bzzjRKpOD8E'\n",
        "\n",
        "    app = ApplicationBuilder().token(bot_token).build()\n",
        "\n",
        "    # Command handlers\n",
        "    app.add_handler(CommandHandler(\"start\", start))\n",
        "\n",
        "    # Message handler for private messages\n",
        "    app.add_handler(MessageHandler(filters.TEXT & filters.ChatType.PRIVATE, handle_private_message))\n",
        "\n",
        "    # Message handler for mentions in group\n",
        "    app.add_handler(MessageHandler(filters.TEXT & filters.ChatType.GROUP, handle_group_message))\n",
        "\n",
        "    app.add_handler(MessageHandler(filters.TEXT, log_all_messages))\n",
        "\n",
        "    # Start the bot\n",
        "    await app.run_polling()\n",
        "\n",
        "async def log_all_messages(update: Update, context: ContextTypes.DEFAULT_TYPE) -> None:\n",
        "    print(f\"Received message: {update.message.text}\")\n",
        "\n",
        "\n",
        "\n",
        "if __name__ == \"__main__\":\n",
        "    import nest_asyncio\n",
        "    import asyncio\n",
        "\n",
        "    # Apply the patch to allow nested event loops\n",
        "    nest_asyncio.apply()\n",
        "\n",
        "    asyncio.run(main())\n",
        "\n"
      ],
      "metadata": {
        "colab": {
          "base_uri": "https://localhost:8080/",
          "height": 408
        },
        "id": "XA-Rin-fxyMV",
        "outputId": "e9c5bec9-0863-4ab2-b967-0c1c854cbbc6"
      },
      "execution_count": 16,
      "outputs": [
        {
          "output_type": "stream",
          "name": "stdout",
          "text": [
            "Received message: @AllamDialectTranslatorBot\n",
            "Received message: كيراكي راني\n",
            "Received message: هلا بيك كيف حوالك\n",
            "Received message: @AllamDialectTranslatorBot\n"
          ]
        },
        {
          "output_type": "error",
          "ename": "RuntimeError",
          "evalue": "Cannot close a running event loop",
          "traceback": [
            "\u001b[0;31m---------------------------------------------------------------------------\u001b[0m",
            "\u001b[0;31mRuntimeError\u001b[0m                              Traceback (most recent call last)",
            "\u001b[0;32m<ipython-input-16-0434ca8e07ce>\u001b[0m in \u001b[0;36m<cell line: 70>\u001b[0;34m()\u001b[0m\n\u001b[1;32m     75\u001b[0m     \u001b[0mnest_asyncio\u001b[0m\u001b[0;34m.\u001b[0m\u001b[0mapply\u001b[0m\u001b[0;34m(\u001b[0m\u001b[0;34m)\u001b[0m\u001b[0;34m\u001b[0m\u001b[0;34m\u001b[0m\u001b[0m\n\u001b[1;32m     76\u001b[0m \u001b[0;34m\u001b[0m\u001b[0m\n\u001b[0;32m---> 77\u001b[0;31m     \u001b[0masyncio\u001b[0m\u001b[0;34m.\u001b[0m\u001b[0mrun\u001b[0m\u001b[0;34m(\u001b[0m\u001b[0mmain\u001b[0m\u001b[0;34m(\u001b[0m\u001b[0;34m)\u001b[0m\u001b[0;34m)\u001b[0m\u001b[0;34m\u001b[0m\u001b[0;34m\u001b[0m\u001b[0m\n\u001b[0m\u001b[1;32m     78\u001b[0m \u001b[0;34m\u001b[0m\u001b[0m\n",
            "\u001b[0;32m/usr/local/lib/python3.10/dist-packages/nest_asyncio.py\u001b[0m in \u001b[0;36mrun\u001b[0;34m(main, debug)\u001b[0m\n\u001b[1;32m     28\u001b[0m         \u001b[0mtask\u001b[0m \u001b[0;34m=\u001b[0m \u001b[0masyncio\u001b[0m\u001b[0;34m.\u001b[0m\u001b[0mensure_future\u001b[0m\u001b[0;34m(\u001b[0m\u001b[0mmain\u001b[0m\u001b[0;34m)\u001b[0m\u001b[0;34m\u001b[0m\u001b[0;34m\u001b[0m\u001b[0m\n\u001b[1;32m     29\u001b[0m         \u001b[0;32mtry\u001b[0m\u001b[0;34m:\u001b[0m\u001b[0;34m\u001b[0m\u001b[0;34m\u001b[0m\u001b[0m\n\u001b[0;32m---> 30\u001b[0;31m             \u001b[0;32mreturn\u001b[0m \u001b[0mloop\u001b[0m\u001b[0;34m.\u001b[0m\u001b[0mrun_until_complete\u001b[0m\u001b[0;34m(\u001b[0m\u001b[0mtask\u001b[0m\u001b[0;34m)\u001b[0m\u001b[0;34m\u001b[0m\u001b[0;34m\u001b[0m\u001b[0m\n\u001b[0m\u001b[1;32m     31\u001b[0m         \u001b[0;32mfinally\u001b[0m\u001b[0;34m:\u001b[0m\u001b[0;34m\u001b[0m\u001b[0;34m\u001b[0m\u001b[0m\n\u001b[1;32m     32\u001b[0m             \u001b[0;32mif\u001b[0m \u001b[0;32mnot\u001b[0m \u001b[0mtask\u001b[0m\u001b[0;34m.\u001b[0m\u001b[0mdone\u001b[0m\u001b[0;34m(\u001b[0m\u001b[0;34m)\u001b[0m\u001b[0;34m:\u001b[0m\u001b[0;34m\u001b[0m\u001b[0;34m\u001b[0m\u001b[0m\n",
            "\u001b[0;32m/usr/local/lib/python3.10/dist-packages/nest_asyncio.py\u001b[0m in \u001b[0;36mrun_until_complete\u001b[0;34m(self, future)\u001b[0m\n\u001b[1;32m     96\u001b[0m                 raise RuntimeError(\n\u001b[1;32m     97\u001b[0m                     'Event loop stopped before Future completed.')\n\u001b[0;32m---> 98\u001b[0;31m             \u001b[0;32mreturn\u001b[0m \u001b[0mf\u001b[0m\u001b[0;34m.\u001b[0m\u001b[0mresult\u001b[0m\u001b[0;34m(\u001b[0m\u001b[0;34m)\u001b[0m\u001b[0;34m\u001b[0m\u001b[0;34m\u001b[0m\u001b[0m\n\u001b[0m\u001b[1;32m     99\u001b[0m \u001b[0;34m\u001b[0m\u001b[0m\n\u001b[1;32m    100\u001b[0m     \u001b[0;32mdef\u001b[0m \u001b[0m_run_once\u001b[0m\u001b[0;34m(\u001b[0m\u001b[0mself\u001b[0m\u001b[0;34m)\u001b[0m\u001b[0;34m:\u001b[0m\u001b[0;34m\u001b[0m\u001b[0;34m\u001b[0m\u001b[0m\n",
            "\u001b[0;32m/usr/lib/python3.10/asyncio/futures.py\u001b[0m in \u001b[0;36mresult\u001b[0;34m(self)\u001b[0m\n\u001b[1;32m    199\u001b[0m         \u001b[0mself\u001b[0m\u001b[0;34m.\u001b[0m\u001b[0m__log_traceback\u001b[0m \u001b[0;34m=\u001b[0m \u001b[0;32mFalse\u001b[0m\u001b[0;34m\u001b[0m\u001b[0;34m\u001b[0m\u001b[0m\n\u001b[1;32m    200\u001b[0m         \u001b[0;32mif\u001b[0m \u001b[0mself\u001b[0m\u001b[0;34m.\u001b[0m\u001b[0m_exception\u001b[0m \u001b[0;32mis\u001b[0m \u001b[0;32mnot\u001b[0m \u001b[0;32mNone\u001b[0m\u001b[0;34m:\u001b[0m\u001b[0;34m\u001b[0m\u001b[0;34m\u001b[0m\u001b[0m\n\u001b[0;32m--> 201\u001b[0;31m             \u001b[0;32mraise\u001b[0m \u001b[0mself\u001b[0m\u001b[0;34m.\u001b[0m\u001b[0m_exception\u001b[0m\u001b[0;34m.\u001b[0m\u001b[0mwith_traceback\u001b[0m\u001b[0;34m(\u001b[0m\u001b[0mself\u001b[0m\u001b[0;34m.\u001b[0m\u001b[0m_exception_tb\u001b[0m\u001b[0;34m)\u001b[0m\u001b[0;34m\u001b[0m\u001b[0;34m\u001b[0m\u001b[0m\n\u001b[0m\u001b[1;32m    202\u001b[0m         \u001b[0;32mreturn\u001b[0m \u001b[0mself\u001b[0m\u001b[0;34m.\u001b[0m\u001b[0m_result\u001b[0m\u001b[0;34m\u001b[0m\u001b[0;34m\u001b[0m\u001b[0m\n\u001b[1;32m    203\u001b[0m \u001b[0;34m\u001b[0m\u001b[0m\n",
            "\u001b[0;32m/usr/lib/python3.10/asyncio/tasks.py\u001b[0m in \u001b[0;36m__step\u001b[0;34m(***failed resolving arguments***)\u001b[0m\n\u001b[1;32m    230\u001b[0m                 \u001b[0;31m# We use the `send` method directly, because coroutines\u001b[0m\u001b[0;34m\u001b[0m\u001b[0;34m\u001b[0m\u001b[0m\n\u001b[1;32m    231\u001b[0m                 \u001b[0;31m# don't have `__iter__` and `__next__` methods.\u001b[0m\u001b[0;34m\u001b[0m\u001b[0;34m\u001b[0m\u001b[0m\n\u001b[0;32m--> 232\u001b[0;31m                 \u001b[0mresult\u001b[0m \u001b[0;34m=\u001b[0m \u001b[0mcoro\u001b[0m\u001b[0;34m.\u001b[0m\u001b[0msend\u001b[0m\u001b[0;34m(\u001b[0m\u001b[0;32mNone\u001b[0m\u001b[0;34m)\u001b[0m\u001b[0;34m\u001b[0m\u001b[0;34m\u001b[0m\u001b[0m\n\u001b[0m\u001b[1;32m    233\u001b[0m             \u001b[0;32melse\u001b[0m\u001b[0;34m:\u001b[0m\u001b[0;34m\u001b[0m\u001b[0;34m\u001b[0m\u001b[0m\n\u001b[1;32m    234\u001b[0m                 \u001b[0mresult\u001b[0m \u001b[0;34m=\u001b[0m \u001b[0mcoro\u001b[0m\u001b[0;34m.\u001b[0m\u001b[0mthrow\u001b[0m\u001b[0;34m(\u001b[0m\u001b[0mexc\u001b[0m\u001b[0;34m)\u001b[0m\u001b[0;34m\u001b[0m\u001b[0;34m\u001b[0m\u001b[0m\n",
            "\u001b[0;32m<ipython-input-16-0434ca8e07ce>\u001b[0m in \u001b[0;36mmain\u001b[0;34m()\u001b[0m\n\u001b[1;32m     61\u001b[0m \u001b[0;34m\u001b[0m\u001b[0m\n\u001b[1;32m     62\u001b[0m     \u001b[0;31m# Start the bot\u001b[0m\u001b[0;34m\u001b[0m\u001b[0;34m\u001b[0m\u001b[0m\n\u001b[0;32m---> 63\u001b[0;31m     \u001b[0;32mawait\u001b[0m \u001b[0mapp\u001b[0m\u001b[0;34m.\u001b[0m\u001b[0mrun_polling\u001b[0m\u001b[0;34m(\u001b[0m\u001b[0;34m)\u001b[0m\u001b[0;34m\u001b[0m\u001b[0;34m\u001b[0m\u001b[0m\n\u001b[0m\u001b[1;32m     64\u001b[0m \u001b[0;34m\u001b[0m\u001b[0m\n\u001b[1;32m     65\u001b[0m \u001b[0;32masync\u001b[0m \u001b[0;32mdef\u001b[0m \u001b[0mlog_all_messages\u001b[0m\u001b[0;34m(\u001b[0m\u001b[0mupdate\u001b[0m\u001b[0;34m:\u001b[0m \u001b[0mUpdate\u001b[0m\u001b[0;34m,\u001b[0m \u001b[0mcontext\u001b[0m\u001b[0;34m:\u001b[0m \u001b[0mContextTypes\u001b[0m\u001b[0;34m.\u001b[0m\u001b[0mDEFAULT_TYPE\u001b[0m\u001b[0;34m)\u001b[0m \u001b[0;34m->\u001b[0m \u001b[0;32mNone\u001b[0m\u001b[0;34m:\u001b[0m\u001b[0;34m\u001b[0m\u001b[0;34m\u001b[0m\u001b[0m\n",
            "\u001b[0;32m/usr/local/lib/python3.10/dist-packages/telegram/ext/_application.py\u001b[0m in \u001b[0;36mrun_polling\u001b[0;34m(self, poll_interval, timeout, bootstrap_retries, read_timeout, write_timeout, connect_timeout, pool_timeout, allowed_updates, drop_pending_updates, close_loop, stop_signals)\u001b[0m\n\u001b[1;32m    863\u001b[0m             \u001b[0mself\u001b[0m\u001b[0;34m.\u001b[0m\u001b[0mcreate_task\u001b[0m\u001b[0;34m(\u001b[0m\u001b[0mself\u001b[0m\u001b[0;34m.\u001b[0m\u001b[0mprocess_error\u001b[0m\u001b[0;34m(\u001b[0m\u001b[0merror\u001b[0m\u001b[0;34m=\u001b[0m\u001b[0mexc\u001b[0m\u001b[0;34m,\u001b[0m \u001b[0mupdate\u001b[0m\u001b[0;34m=\u001b[0m\u001b[0;32mNone\u001b[0m\u001b[0;34m)\u001b[0m\u001b[0;34m)\u001b[0m\u001b[0;34m\u001b[0m\u001b[0;34m\u001b[0m\u001b[0m\n\u001b[1;32m    864\u001b[0m \u001b[0;34m\u001b[0m\u001b[0m\n\u001b[0;32m--> 865\u001b[0;31m         return self.__run(\n\u001b[0m\u001b[1;32m    866\u001b[0m             updater_coroutine=self.updater.start_polling(\n\u001b[1;32m    867\u001b[0m                 \u001b[0mpoll_interval\u001b[0m\u001b[0;34m=\u001b[0m\u001b[0mpoll_interval\u001b[0m\u001b[0;34m,\u001b[0m\u001b[0;34m\u001b[0m\u001b[0;34m\u001b[0m\u001b[0m\n",
            "\u001b[0;32m/usr/local/lib/python3.10/dist-packages/telegram/ext/_application.py\u001b[0m in \u001b[0;36m__run\u001b[0;34m(self, updater_coroutine, stop_signals, close_loop)\u001b[0m\n\u001b[1;32m   1091\u001b[0m             \u001b[0;32mfinally\u001b[0m\u001b[0;34m:\u001b[0m\u001b[0;34m\u001b[0m\u001b[0;34m\u001b[0m\u001b[0m\n\u001b[1;32m   1092\u001b[0m                 \u001b[0;32mif\u001b[0m \u001b[0mclose_loop\u001b[0m\u001b[0;34m:\u001b[0m\u001b[0;34m\u001b[0m\u001b[0;34m\u001b[0m\u001b[0m\n\u001b[0;32m-> 1093\u001b[0;31m                     \u001b[0mloop\u001b[0m\u001b[0;34m.\u001b[0m\u001b[0mclose\u001b[0m\u001b[0;34m(\u001b[0m\u001b[0;34m)\u001b[0m\u001b[0;34m\u001b[0m\u001b[0;34m\u001b[0m\u001b[0m\n\u001b[0m\u001b[1;32m   1094\u001b[0m \u001b[0;34m\u001b[0m\u001b[0m\n\u001b[1;32m   1095\u001b[0m     def create_task(\n",
            "\u001b[0;32m/usr/lib/python3.10/asyncio/unix_events.py\u001b[0m in \u001b[0;36mclose\u001b[0;34m(self)\u001b[0m\n\u001b[1;32m     66\u001b[0m \u001b[0;34m\u001b[0m\u001b[0m\n\u001b[1;32m     67\u001b[0m     \u001b[0;32mdef\u001b[0m \u001b[0mclose\u001b[0m\u001b[0;34m(\u001b[0m\u001b[0mself\u001b[0m\u001b[0;34m)\u001b[0m\u001b[0;34m:\u001b[0m\u001b[0;34m\u001b[0m\u001b[0;34m\u001b[0m\u001b[0m\n\u001b[0;32m---> 68\u001b[0;31m         \u001b[0msuper\u001b[0m\u001b[0;34m(\u001b[0m\u001b[0;34m)\u001b[0m\u001b[0;34m.\u001b[0m\u001b[0mclose\u001b[0m\u001b[0;34m(\u001b[0m\u001b[0;34m)\u001b[0m\u001b[0;34m\u001b[0m\u001b[0;34m\u001b[0m\u001b[0m\n\u001b[0m\u001b[1;32m     69\u001b[0m         \u001b[0;32mif\u001b[0m \u001b[0;32mnot\u001b[0m \u001b[0msys\u001b[0m\u001b[0;34m.\u001b[0m\u001b[0mis_finalizing\u001b[0m\u001b[0;34m(\u001b[0m\u001b[0;34m)\u001b[0m\u001b[0;34m:\u001b[0m\u001b[0;34m\u001b[0m\u001b[0;34m\u001b[0m\u001b[0m\n\u001b[1;32m     70\u001b[0m             \u001b[0;32mfor\u001b[0m \u001b[0msig\u001b[0m \u001b[0;32min\u001b[0m \u001b[0mlist\u001b[0m\u001b[0;34m(\u001b[0m\u001b[0mself\u001b[0m\u001b[0;34m.\u001b[0m\u001b[0m_signal_handlers\u001b[0m\u001b[0;34m)\u001b[0m\u001b[0;34m:\u001b[0m\u001b[0;34m\u001b[0m\u001b[0;34m\u001b[0m\u001b[0m\n",
            "\u001b[0;32m/usr/lib/python3.10/asyncio/selector_events.py\u001b[0m in \u001b[0;36mclose\u001b[0;34m(self)\u001b[0m\n\u001b[1;32m     82\u001b[0m     \u001b[0;32mdef\u001b[0m \u001b[0mclose\u001b[0m\u001b[0;34m(\u001b[0m\u001b[0mself\u001b[0m\u001b[0;34m)\u001b[0m\u001b[0;34m:\u001b[0m\u001b[0;34m\u001b[0m\u001b[0;34m\u001b[0m\u001b[0m\n\u001b[1;32m     83\u001b[0m         \u001b[0;32mif\u001b[0m \u001b[0mself\u001b[0m\u001b[0;34m.\u001b[0m\u001b[0mis_running\u001b[0m\u001b[0;34m(\u001b[0m\u001b[0;34m)\u001b[0m\u001b[0;34m:\u001b[0m\u001b[0;34m\u001b[0m\u001b[0;34m\u001b[0m\u001b[0m\n\u001b[0;32m---> 84\u001b[0;31m             \u001b[0;32mraise\u001b[0m \u001b[0mRuntimeError\u001b[0m\u001b[0;34m(\u001b[0m\u001b[0;34m\"Cannot close a running event loop\"\u001b[0m\u001b[0;34m)\u001b[0m\u001b[0;34m\u001b[0m\u001b[0;34m\u001b[0m\u001b[0m\n\u001b[0m\u001b[1;32m     85\u001b[0m         \u001b[0;32mif\u001b[0m \u001b[0mself\u001b[0m\u001b[0;34m.\u001b[0m\u001b[0mis_closed\u001b[0m\u001b[0;34m(\u001b[0m\u001b[0;34m)\u001b[0m\u001b[0;34m:\u001b[0m\u001b[0;34m\u001b[0m\u001b[0;34m\u001b[0m\u001b[0m\n\u001b[1;32m     86\u001b[0m             \u001b[0;32mreturn\u001b[0m\u001b[0;34m\u001b[0m\u001b[0;34m\u001b[0m\u001b[0m\n",
            "\u001b[0;31mRuntimeError\u001b[0m: Cannot close a running event loop"
          ]
        }
      ]
    }
  ]
}